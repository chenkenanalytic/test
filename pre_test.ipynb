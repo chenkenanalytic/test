{
  "nbformat": 4,
  "nbformat_minor": 0,
  "metadata": {
    "colab": {
      "name": "pre_test.ipynb",
      "provenance": [],
      "authorship_tag": "ABX9TyNUTSpxlxm9In7zmI9wFvTo",
      "include_colab_link": true
    },
    "kernelspec": {
      "name": "python3",
      "display_name": "Python 3"
    }
  },
  "cells": [
    {
      "cell_type": "markdown",
      "metadata": {
        "id": "view-in-github",
        "colab_type": "text"
      },
      "source": [
        "<a href=\"https://colab.research.google.com/github/chenkenanalytic/test/blob/main/pre_test.ipynb\" target=\"_parent\"><img src=\"https://colab.research.google.com/assets/colab-badge.svg\" alt=\"Open In Colab\"/></a>"
      ]
    },
    {
      "cell_type": "code",
      "metadata": {
        "id": "z0_LWWUysxG0"
      },
      "source": [
        "# Input:\n",
        "input_value = {\n",
        "  'hired': {\n",
        "    'be': {\n",
        "      'to': {\n",
        "        'deserve': 'I'\n",
        "      }\n",
        "    }\n",
        "  }\n",
        "}\n",
        " \n",
        "# Output:\n",
        "output_value = {\n",
        "  'I': {\n",
        "    'deserve': {\n",
        "      'to': {\n",
        "         'be': 'hired'\n",
        "      }\n",
        "    }\n",
        "  }\n",
        "}"
      ],
      "execution_count": 1,
      "outputs": []
    },
    {
      "cell_type": "code",
      "metadata": {
        "id": "O-bhiOL6s21R",
        "outputId": "0555860f-1e00-4f7f-9210-5ac1237a9e04",
        "colab": {
          "base_uri": "https://localhost:8080/"
        }
      },
      "source": [
        "def reverse_1(test):\n",
        "\n",
        "  for key_1, test_1 in test.items():\n",
        "    p5 = key_1\n",
        "  for key_2, test_2 in test_1.items():\n",
        "    p4 = key_2\n",
        "  for key_3, test_3 in test_2.items():\n",
        "    p3 = key_3\n",
        "  for key_4, test_4 in test_3.items():\n",
        "    p2 = key_4\n",
        "    p1 = test_4\n",
        "\n",
        "  output_answer = {p1:{p2:{p3:{p4:p5}}}}\n",
        "\n",
        "  return output_answer\n",
        "\n",
        "# Answer Checked\n",
        "print(reverse_1(input_value) == output_value)\n",
        "print(reverse_1(input_value))"
      ],
      "execution_count": 2,
      "outputs": [
        {
          "output_type": "stream",
          "text": [
            "True\n",
            "{'I': {'deserve': {'to': {'be': 'hired'}}}}\n"
          ],
          "name": "stdout"
        }
      ]
    },
    {
      "cell_type": "code",
      "metadata": {
        "id": "UaFzrb_Ds6FX",
        "outputId": "0e5d6173-9956-409f-a2fb-3e937ab37a1f",
        "colab": {
          "base_uri": "https://localhost:8080/"
        }
      },
      "source": [
        "def reverse_2(test):\n",
        "  p5 = list(input_value.keys())[0]\n",
        "  p4 = list(list(input_value.values())[0].keys())[0]\n",
        "  p3 = list(list(list(input_value.values())[0].values())[0].keys())[0]\n",
        "  p2 = list(list(list(list(input_value.values())[0].values())[0].values())[0].keys())[0]\n",
        "  p1 = list(list(list(list(input_value.values())[0].values())[0].values())[0].values())[0]\n",
        "\n",
        "  output_answer = {p1:{p2:{p3:{p4:p5}}}}\n",
        "\n",
        "  return output_answer\n",
        "\n",
        "# Answer Checked\n",
        "print(reverse_2(input_value) == output_value)\n",
        "print(reverse_2(input_value))"
      ],
      "execution_count": 3,
      "outputs": [
        {
          "output_type": "stream",
          "text": [
            "True\n",
            "{'I': {'deserve': {'to': {'be': 'hired'}}}}\n"
          ],
          "name": "stdout"
        }
      ]
    }
  ]
}